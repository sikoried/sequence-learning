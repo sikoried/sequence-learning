{
 "cells": [
  {
   "cell_type": "code",
   "execution_count": null,
   "metadata": {},
   "outputs": [],
   "source": [
    "import numpy as np\n",
    "\n",
    "\n",
    "# some (artificial) data\n",
    "X = np.array([[0,0,1],\n",
    "            [0,1,1],\n",
    "            [1,0,1],\n",
    "            [0,0,1]])\n",
    "                \n",
    "y = np.array([[0],\n",
    "            [1],\n",
    "            [1],\n",
    "            [0]])\n",
    "\n",
    "\n",
    "# define how to compute the nonlinearity and it's derivative\n",
    "def nonlin(x, deriv=False):\n",
    "    pass"
   ]
  },
  {
   "cell_type": "code",
   "execution_count": null,
   "metadata": {},
   "outputs": [],
   "source": [
    "# seed the NRG for reproducible results\n",
    "np.random.seed(1)\n",
    "\n",
    "# set up the parameters for a 2-layer fully connected network\n",
    "\n",
    "layer0 = ???\n",
    "layer1 = ???\n",
    "\n",
    "learning_rate = 1\n",
    "\n",
    "# iterate...\n",
    "for j in range(0, 60000):\n",
    "\n",
    "    # compute forward pass through the network; retain values\n",
    "    \n",
    "\n",
    "    # compute error: how much did we miss the target value?\n",
    "    \n",
    "    # compute delta at output level\n",
    "    \n",
    "    # recursively compute deltas at lower levels\n",
    "\n",
    "# print final params\n",
    "print(layer0, layer1)"
   ]
  },
  {
   "cell_type": "code",
   "execution_count": null,
   "metadata": {},
   "outputs": [],
   "source": [
    "# test model\n"
   ]
  }
 ],
 "metadata": {
  "kernelspec": {
   "display_name": "Python 3",
   "language": "python",
   "name": "python3"
  },
  "language_info": {
   "codemirror_mode": {
    "name": "ipython",
    "version": 3
   },
   "file_extension": ".py",
   "mimetype": "text/x-python",
   "name": "python",
   "nbconvert_exporter": "python",
   "pygments_lexer": "ipython3",
   "version": "3.7.5"
  }
 },
 "nbformat": 4,
 "nbformat_minor": 4
}
