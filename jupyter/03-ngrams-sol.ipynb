{
 "cells": [
  {
   "cell_type": "code",
   "execution_count": 34,
   "metadata": {},
   "outputs": [],
   "source": [
    "from pynlpl.lm.lm import ARPALanguageModel\n",
    "\n",
    "mdl = ARPALanguageModel('data/theses.arpa')"
   ]
  },
  {
   "cell_type": "code",
   "execution_count": 35,
   "metadata": {},
   "outputs": [],
   "source": [
    "# https://github.com/proycon/pynlpl/blob/master/pynlpl/lm/lm.py\n",
    "def sample(history, n=5):\n",
    "    if isinstance(history, str):\n",
    "        history = history.split()\n",
    "    if isinstance(history, list):\n",
    "        history = tuple(history)\n",
    "    \n",
    "    # cut off...\n",
    "    if len(history) >= mdl.order:\n",
    "        history = history[-mdl.order+1:]\n",
    "    \n",
    "    print(history)\n",
    "    \n",
    "    def match(x, h):\n",
    "        # history needs to be \"one longer\" but needs to match\n",
    "        return len(x[0]) == len(h) + 1 and x[0][:len(h)] == h\n",
    "    \n",
    "    cand = filter(lambda x: match(x, history), mdl.ngrams._data.items())    \n",
    "    cand = sorted(cand, key=lambda x: x[1][0], reverse=True)\n",
    "    return cand[:n]"
   ]
  },
  {
   "cell_type": "code",
   "execution_count": 36,
   "metadata": {},
   "outputs": [
    {
     "name": "stdout",
     "output_type": "stream",
     "text": [
      "('und', 'Implementierung')\n"
     ]
    },
    {
     "data": {
      "text/plain": [
       "[(('und', 'Implementierung', 'eines'), (-0.6931471905439976, 0.0)),\n",
       " (('und', 'Implementierung', 'einer'), (-1.0704414156097044, 0.0)),\n",
       " (('und', 'Implementierung', 'von'), (-3.2963347674284162, 0.0)),\n",
       " (('und', 'Implementierung', 'der'), (-4.99764811767402, 0.0))]"
      ]
     },
     "execution_count": 36,
     "metadata": {},
     "output_type": "execute_result"
    }
   ],
   "source": [
    "sample(\"Design und Implementierung\")\n"
   ]
  },
  {
   "cell_type": "code",
   "execution_count": 37,
   "metadata": {},
   "outputs": [
    {
     "name": "stdout",
     "output_type": "stream",
     "text": [
      "Konzeption\n",
      "('Konzeption',)\n",
      "Konzeption['und', 'einer', 'eines', 'der', '&']\n",
      "und\n",
      "('Konzeption', 'und')\n",
      "Konzeption und['prototypische', 'Entwicklung', 'Implementierung', 'Realisierung', 'Umsetzung']\n",
      "Implementierung\n",
      "('und', 'Implementierung')\n",
      "Konzeption und Implementierung['eines', 'einer', 'von', 'der']\n",
      "einer\n",
      "('Implementierung', 'einer')\n",
      "Konzeption und Implementierung einer['Softwarelösung', 'mobilen', 'plattformunabhängigen', 'prototypischen', 'webbasierten']\n",
      "mobilen\n",
      "('einer', 'mobilen')\n",
      "Konzeption und Implementierung einer mobilen['Anwendung', 'Applikation']\n",
      "Applikation\n",
      "('mobilen', 'Applikation')\n",
      "Konzeption und Implementierung einer mobilen Applikation[]\n",
      "\n"
     ]
    }
   ],
   "source": [
    "hist = []\n",
    "while True:\n",
    "    a = input().strip()\n",
    "    if not a:\n",
    "        break\n",
    "    hist.append(a)\n",
    "    print(' '.join(hist) + str(list(map(lambda x: x[0][-1], sample(hist)))))\n",
    "    "
   ]
  }
 ],
 "metadata": {
  "kernelspec": {
   "display_name": "Python 3",
   "language": "python",
   "name": "python3"
  },
  "language_info": {
   "codemirror_mode": {
    "name": "ipython",
    "version": 3
   },
   "file_extension": ".py",
   "mimetype": "text/x-python",
   "name": "python",
   "nbconvert_exporter": "python",
   "pygments_lexer": "ipython3",
   "version": "3.7.5"
  }
 },
 "nbformat": 4,
 "nbformat_minor": 4
}
