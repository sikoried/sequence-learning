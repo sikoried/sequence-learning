{
 "cells": [
  {
   "cell_type": "code",
   "execution_count": 34,
   "metadata": {},
   "outputs": [],
   "source": [
    "from pynlpl.lm.lm import ARPALanguageModel\n",
    "\n",
    "mdl = ARPALanguageModel('data/theses.arpa')"
   ]
  },
  {
   "cell_type": "code",
   "execution_count": 94,
   "metadata": {},
   "outputs": [],
   "source": [
    "# https://github.com/proycon/pynlpl/blob/master/pynlpl/lm/lm.py\n",
    "def sample(hist, n=0):\n",
    "    if isinstance(hist, str):\n",
    "        hist = hist.split()\n",
    "    if isinstance(hist, list):\n",
    "        hist = tuple(hist)\n",
    "    \n",
    "    # cut off...\n",
    "    if len(hist) >= mdl.order:\n",
    "        hist = hist[-mdl.order+1:]\n",
    "    \n",
    "    def match(x, h):\n",
    "        if not h:\n",
    "            return len(x[0]) == 1\n",
    "        else:\n",
    "            # history needs to be \"one longer\" but needs to match\n",
    "            return len(x[0]) == len(h) + 1 and x[0][:len(h)] == h\n",
    "    \n",
    "    cand = list(filter(lambda x: match(x, hist), mdl.ngrams._data.items()))\n",
    "    \n",
    "    # if no cands, shorten history from the left\n",
    "    while not cand:\n",
    "        hist = hist[1:]\n",
    "        cand = list(filter(lambda x: match(x, hist), mdl.ngrams._data.items()))\n",
    "        \n",
    "    cand = list(sorted(cand, key=lambda x: x[1][0], reverse=True))\n",
    "    \n",
    "    if n > 0:\n",
    "        return cand[:n]\n",
    "    else:\n",
    "        return cand\n",
    "    "
   ]
  },
  {
   "cell_type": "code",
   "execution_count": 95,
   "metadata": {},
   "outputs": [
    {
     "data": {
      "text/plain": [
       "[(('und', 'Implementierung', 'eines'), (-0.6931471905439976, 0.0)),\n",
       " (('und', 'Implementierung', 'einer'), (-1.0704414156097044, 0.0)),\n",
       " (('und', 'Implementierung', 'von'), (-3.2963347674284162, 0.0)),\n",
       " (('und', 'Implementierung', 'der'), (-4.99764811767402, 0.0))]"
      ]
     },
     "execution_count": 95,
     "metadata": {},
     "output_type": "execute_result"
    }
   ],
   "source": [
    "sample(\"Design und Implementierung\")\n"
   ]
  },
  {
   "cell_type": "code",
   "execution_count": 96,
   "metadata": {},
   "outputs": [
    {
     "name": "stdout",
     "output_type": "stream",
     "text": [
      "Evaluierung der Möglichkeiten und Herausforderungen von Software - Analyse und Optimierung eines Konzepts zur Visualisierung von Daten in die Einführung\n",
      "Konzeption eines Tools für die Fakultät der TH Nürnberg\n",
      "Evaluierung und Vergleich von Algorithmen zur Visualisierung von Daten auf einem autonomen, mobilen Roboter\n",
      "Konzeption der DATEV eG\n",
      "Entwicklung und prototypische Realisierung eines Konzepts für das ERP-System und Realisierung eines generischen Business Intelligence Lösung mit dem bestehenden Recommender-Algorithmus\n",
      "Entwicklung einer mobilen Anwendung zur automatischen Erstellung und Entwicklung von Software Asset Management Systems für die Darstellung aktueller Trends im\n",
      "Evaluation von Multi-Modell-Datenbankkonzepten zur Verwaltung polystrukturierter Daten\n",
      "Evaluation von Multi-Modell-Datenbankkonzepten zur Verwaltung polystrukturierter Daten\n",
      "Evaluation der Siemens AG\n",
      "Analyse und Design einer generischen Filters für den Einsatz im Rahmen der Kündigung von Gamification\n",
      "Evaluation von Multi-Modell-Datenbankkonzepten zur Verwaltung polystrukturierter Daten\n",
      "Konzeption der Dematic GmbH\n"
     ]
    }
   ],
   "source": [
    "# Abschlussarbeiten-Sampler\n",
    "import random\n",
    "\n",
    "def sample_title(max_len=20):\n",
    "    hist = ('<s>')\n",
    "    title = []\n",
    "    for i in range(max_len):\n",
    "        cand = sample(hist, 5)\n",
    "        if not cand:\n",
    "            break\n",
    "\n",
    "        cand = random.choice(cand)[0]\n",
    "\n",
    "        if cand[-1] == '</s>':\n",
    "            break\n",
    "            \n",
    "        title.append(cand[-1])\n",
    "        hist = cand\n",
    "    return title\n",
    "\n",
    "for i in range(12):\n",
    "    print(' '.join(sample_title()))"
   ]
  },
  {
   "cell_type": "code",
   "execution_count": 40,
   "metadata": {},
   "outputs": [
    {
     "name": "stdout",
     "output_type": "stream",
     "text": [
      "Konzeption\n",
      "('Konzeption',)\n",
      "Konzeption['und', 'einer', 'eines', 'der', '&']\n",
      "und\n",
      "('Konzeption', 'und')\n",
      "Konzeption und['prototypische', 'Entwicklung', 'Implementierung', 'Realisierung', 'Umsetzung']\n",
      "prototypische\n",
      "('und', 'prototypische')\n",
      "Konzeption und prototypische['Implementierung', 'Realisierung', 'Umsetzung', 'Entwicklung']\n",
      "Umsetzung\n",
      "('prototypische', 'Umsetzung')\n",
      "Konzeption und prototypische Umsetzung['eines', 'einer', 'von']\n",
      "eienr\n",
      "('Umsetzung', 'eienr')\n",
      "Konzeption und prototypische Umsetzung eienr[]\n",
      "\n"
     ]
    }
   ],
   "source": [
    "# Interaktive vervollständigung\n",
    "hist = []\n",
    "while True:\n",
    "    a = input().strip()\n",
    "    if not a:\n",
    "        break\n",
    "    hist.append(a)\n",
    "    print(' '.join(hist) + str(list(map(lambda x: x[0][-1], sample(hist)))))\n",
    "    "
   ]
  },
  {
   "cell_type": "code",
   "execution_count": null,
   "metadata": {},
   "outputs": [],
   "source": []
  }
 ],
 "metadata": {
  "kernelspec": {
   "display_name": "Python 3",
   "language": "python",
   "name": "python3"
  },
  "language_info": {
   "codemirror_mode": {
    "name": "ipython",
    "version": 3
   },
   "file_extension": ".py",
   "mimetype": "text/x-python",
   "name": "python",
   "nbconvert_exporter": "python",
   "pygments_lexer": "ipython3",
   "version": "3.7.5"
  }
 },
 "nbformat": 4,
 "nbformat_minor": 4
}
