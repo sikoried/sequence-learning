{
 "cells": [
  {
   "cell_type": "markdown",
   "metadata": {},
   "source": [
    "# Assignment 2: Costs and States\n",
    "\n",
    "_See [Assignment 2: Costs and States](https://sikoried.github.io/sequence-learning/02/cost-and-states/)._\n",
    "\n",
    "\n",
    "## Keyboard Aware Auto-Correct\n",
    "\n",
    "In the previous assignment, we applied uniform cost to all substitutions.\n",
    "This does not really make sense if you look at a keyboard: the QWERTY layout will favor certain substitutions (eg. _a_ and _s_), while others are fairly unlikely (eg. _a_ and _k_).\n",
    "\n",
    "- Implement a distance metric that computes a weight for a given character substitution.\n",
    "\tHint: Think of the keyboard as a checkerboard, where the keys are uniformly distributed; a simple heuristic is to map the keys to their offsets on the board, and compute the euclidean distance (compare eg. [here](https://github.com/wsong/Typo-Distance/blob/master/typodistance.py)).\n",
    "- Integrate this distance to the basic edit distance from last week.\n",
    "\n",
    "\n",
    "## Discuss your Implementation\n",
    "\n",
    "- What could be better heuristics for cost of substitution than the one above?\n",
    "- What about swipe-to-type?\n",
    "- What about capitalization, punctiation and special characters?"
   ]
  },
  {
   "cell_type": "code",
   "execution_count": 4,
   "metadata": {},
   "outputs": [
    {
     "name": "stdout",
     "output_type": "stream",
     "text": [
      "┌───────────────────┬───────────────────┬───┬───┐\n",
      "│ GCGTATGAGGCTAACGC │ GCTATGCGGCTATACGC │ 3 │ 0 │\n",
      "├───────────────────┼───────────────────┼───┼───┤\n",
      "│ kühler schrank    │ schüler krank     │ 6 │ 0 │\n",
      "├───────────────────┼───────────────────┼───┼───┤\n",
      "│ the longest       │ longest day       │ 8 │ 0 │\n",
      "├───────────────────┼───────────────────┼───┼───┤\n",
      "│ nicht ausgeloggt  │ licht ausgenockt  │ 4 │ 0 │\n",
      "├───────────────────┼───────────────────┼───┼───┤\n",
      "│ gurken schaben    │ schurkengaben     │ 7 │ 0 │\n",
      "└───────────────────┴───────────────────┴───┴───┘\n"
     ]
    }
   ],
   "source": [
    "gem_doppel = [\n",
    "    (\"GCGTATGAGGCTAACGC\", \"GCTATGCGGCTATACGC\"),\n",
    "    (\"kühler schrank\", \"schüler krank\"),\n",
    "    (\"the longest\", \"longest day\"),\n",
    "    (\"nicht ausgeloggt\", \"licht ausgenockt\"),\n",
    "    (\"gurken schaben\", \"schurkengaben\")\n",
    "]\n",
    "\n",
    "import numpy as np\n",
    "\n",
    "def edit(x, y):\n",
    "    D = np.zeros((len(x) + 1, len(y) + 1), dtype=int)\n",
    "\n",
    "    # for the empty word, costs match the length of the other string\n",
    "    D[0, 1:] = range(1, len(y) + 1)\n",
    "    D[1:, 0] = range(1, len(x) + 1)\n",
    "    \n",
    "    for i in range(1, len(x) + 1):\n",
    "        for j in range(1, len(y) + 1):\n",
    "            delta = 0 if x[i-1] == y[j-1] else 1\n",
    "            D[i, j] = min(\n",
    "                D[i-1, j] + 1,\n",
    "                D[i, j-1] + 1,\n",
    "                D[i-1, j-1] + delta\n",
    "            )\n",
    "\n",
    "    return D[len(x), len(y)]\n",
    "\n",
    "def edit5(x, y):\n",
    "    return 0\n",
    "\n",
    "\n",
    "from IPython.display import display\n",
    "from tabletext import to_text\n",
    "\n",
    "print(to_text([(a, b, edit(a, b), edit5(a, b)) for (a, b) in gem_doppel]))\n"
   ]
  },
  {
   "cell_type": "markdown",
   "metadata": {},
   "source": [
    "## Isolated Word Recognition using Dynamic Time Warping\n",
    "\n",
    "Acutally, using [dynamic time warping](https://en.wikipedia.org/wiki/Dynamic_time_warping) (i.e. edit distance with uniform cost) for isolated word recognition is [really old](https://ieeexplore.ieee.org/document/1171695/), but worth the exercise!\n",
    "\n",
    "_Note: This assignment was originally implemented in Java using JSTK._\n",
    "\n",
    "\n",
    "### Extracting Features\n",
    "\n",
    "For the audio i/o and feature extraction, we'll use [librosa](https://librosa.github.io/librosa/index.html).\n",
    "Due to the relatively large sample number (e.g. 8kHz), performing DTW on the raw audio signal is not advised (feel free to try!).\n",
    "A better solution is to compute a set of features; here we will [extract mel-frequency cepstral coefficients](https://librosa.github.io/librosa/generated/librosa.feature.mfcc.html) over windows of 25ms length, shifted by 10ms.\n",
    "\n",
    "You can record your own, or uses (a fraction of) this dataset: http://download.tensorflow.org/data/speech_commands_v0.02.tar.gz\n",
    "\n",
    "### Algorithm\n",
    "\n",
    "- Compute the features for the sample words and store in array\n",
    "- For any new word, compute the features and the distances to the sample words\n",
    "- Decide for the word with the smallest distance\n"
   ]
  },
  {
   "cell_type": "code",
   "execution_count": null,
   "metadata": {},
   "outputs": [],
   "source": []
  },
  {
   "cell_type": "markdown",
   "metadata": {},
   "source": [
    "### Dynamic Programming and States: DTMF Decoding\n",
    "\n",
    "_Still todo._\n",
    "\n",
    "https://fairyonice.github.io/decode-the-dial-up-sounds-using-spectrogram.html"
   ]
  },
  {
   "cell_type": "code",
   "execution_count": 5,
   "metadata": {},
   "outputs": [
    {
     "ename": "SyntaxError",
     "evalue": "invalid syntax (<ipython-input-5-33d3670c801c>, line 1)",
     "output_type": "error",
     "traceback": [
      "\u001b[0;36m  File \u001b[0;32m\"<ipython-input-5-33d3670c801c>\"\u001b[0;36m, line \u001b[0;32m1\u001b[0m\n\u001b[0;31m    x --------------------------------------------------\u001b[0m\n\u001b[0m                                                        ^\u001b[0m\n\u001b[0;31mSyntaxError\u001b[0m\u001b[0;31m:\u001b[0m invalid syntax\n"
     ]
    }
   ],
   "source": [
    "x --------------------------------------------------\n",
    "sil   /\n",
    "1    -->\n",
    "2    |\\\n",
    "3    | \\\n",
    "4\n",
    "5\n",
    ".\n",
    ".\n",
    ".\n",
    "\n",
    "\n",
    "\n"
   ]
  },
  {
   "cell_type": "code",
   "execution_count": null,
   "metadata": {},
   "outputs": [],
   "source": []
  }
 ],
 "metadata": {
  "kernelspec": {
   "display_name": "Python 3",
   "language": "python",
   "name": "python3"
  },
  "language_info": {
   "codemirror_mode": {
    "name": "ipython",
    "version": 3
   },
   "file_extension": ".py",
   "mimetype": "text/x-python",
   "name": "python",
   "nbconvert_exporter": "python",
   "pygments_lexer": "ipython3",
   "version": "3.7.5"
  }
 },
 "nbformat": 4,
 "nbformat_minor": 4
}
