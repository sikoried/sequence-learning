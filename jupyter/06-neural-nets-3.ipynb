{
 "cells": [
  {
   "cell_type": "code",
   "execution_count": null,
   "metadata": {},
   "outputs": [],
   "source": [
    "# classify wheat seeds using pytorch\n",
    "\n",
    "import torch\n",
    "import pandas as pd\n",
    "import numpy as np\n",
    "\n",
    "from torch.autograd import Variable\n",
    "from zipfile import ZipFile\n",
    "\n",
    "# read in feature data; there are three classes {1, 2, 3}\n",
    "with ZipFile('data/wheat-seeds.zip') as zf:\n",
    "    df = pd.read_csv(zf.open('wheat-seeds.csv'), header=None)"
   ]
  },
  {
   "cell_type": "code",
   "execution_count": null,
   "metadata": {},
   "outputs": [],
   "source": [
    "# partition: use 10% for testing\n",
    "train = \n",
    "test = \n",
    "\n",
    "# set up input and output variables\n",
    "trX = Variable(???)\n",
    "trY = Variable(???)\n",
    "\n",
    "\n",
    "NUM_HIDDEN_1 = 64\n",
    "NUM_HIDDEN_2 = 64\n",
    "\n",
    "# Define the model\n",
    "model = torch.nn.Sequential(\n",
    "    None\n",
    ")\n",
    "\n",
    "# define loss function and optimizer\n",
    "loss_fn = ???\n",
    "optimizer = ???\n",
    "\n",
    "\n",
    "BATCH_SIZE = 64 \n",
    "\n",
    "# start training; use batches to form epochs\n",
    "for epoch in range(0, 10000):\n",
    "    # form batch\n",
    "    \n",
    "    # predict data\n",
    "    \n",
    "    # compute loss\n",
    "    \n",
    "    # optimize\n",
    "\n",
    "    # find loss on training data (after update; for diagnostics"
   ]
  },
  {
   "cell_type": "code",
   "execution_count": null,
   "metadata": {},
   "outputs": [],
   "source": [
    "# test model\n",
    "testX = Variable(???)\n",
    "testY = model(testX)\n",
    "\n",
    "print(testY)\n",
    "print(test[test.columns[-1]] - 1)\n",
    "\n",
    "# original labels vs. predicted?\n",
    "print(...)"
   ]
  }
 ],
 "metadata": {
  "kernelspec": {
   "display_name": "Python 3",
   "language": "python",
   "name": "python3"
  },
  "language_info": {
   "codemirror_mode": {
    "name": "ipython",
    "version": 3
   },
   "file_extension": ".py",
   "mimetype": "text/x-python",
   "name": "python",
   "nbconvert_exporter": "python",
   "pygments_lexer": "ipython3",
   "version": "3.7.5"
  }
 },
 "nbformat": 4,
 "nbformat_minor": 4
}
