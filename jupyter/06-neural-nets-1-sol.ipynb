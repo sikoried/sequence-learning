{
 "cells": [
  {
   "cell_type": "code",
   "execution_count": 2,
   "metadata": {},
   "outputs": [
    {
     "name": "stdout",
     "output_type": "stream",
     "text": [
      "ex1    6.1\n",
      "ex2    8.6\n",
      "y      1.0\n",
      "dtype: float64\n",
      "ex1    1.6\n",
      "ex2    4.2\n",
      "y     -1.0\n",
      "dtype: float64\n"
     ]
    },
    {
     "data": {
      "image/png": "[encoded data removed]",
      "text/plain": [
       "<Figure size 432x288 with 1 Axes>"
      ]
     },
     "metadata": {
      "needs_background": "light"
     },
     "output_type": "display_data"
    }
   ],
   "source": [
    "import pandas as pd\n",
    "import matplotlib.pyplot as plt\n",
    "import numpy as np\n",
    "\n",
    "from zipfile import ZipFile\n",
    "\n",
    "# read in the theses dataset\n",
    "with ZipFile('data/theses.zip') as zf:\n",
    "    df = pd.read_csv(zf.open('admission.csv'), header=None, names=['ex1', 'ex2', 'y'])\n",
    "\n",
    "fig, ax = plt.subplots()\n",
    "\n",
    "for name, group in df.groupby('y'):\n",
    "    ax.plot(group['ex1'], group['ex2'], marker='o', linestyle='', label=name)\n",
    "ax.legend()\n",
    "\n",
    "\n",
    "print(df.max())\n",
    "print(df.min())\n",
    "\n",
    "plt.show()"
   ]
  },
  {
   "cell_type": "code",
   "execution_count": 4,
   "metadata": {},
   "outputs": [
    {
     "name": "stdout",
     "output_type": "stream",
     "text": [
      "(80, 3)\n",
      "240\n"
     ]
    }
   ],
   "source": [
    "# partition in train and test\n",
    "mask = np.random.rand(len(df)) < 0.9\n",
    "train = df[mask]\n",
    "test = df[~mask]\n",
    "\n",
    "Xtr = train[['ex1', 'ex2']].to_numpy()\n",
    "Ytr = train['y'].to_numpy()\n",
    "\n",
    "Xte = test[['ex1', 'ex2']].to_numpy()\n",
    "Yte = test['y'].to_numpy()\n",
    "\n",
    "print(df.shape)\n",
    "print(df.size)"
   ]
  },
  {
   "cell_type": "code",
   "execution_count": 5,
   "metadata": {},
   "outputs": [
    {
     "name": "stdout",
     "output_type": "stream",
     "text": [
      "0 2513.116125583679 135.5469209948487\n",
      "100 42.406176554449765 1.5730018232028966\n",
      "200 638.2011255836779 33.796920994848634\n",
      "300 1142.3763457995958 89.68620150353226\n",
      "400 1453.4438457995964 102.25120150353234\n",
      "500 2070.328845799598 148.08120150353247\n",
      "600 1722.0563457995986 118.58120150353257\n",
      "700 545.2842455406507 26.995501823203156\n",
      "800 388.13122334486593 13.543001823203191\n",
      "900 243.00306265216923 5.800501823203213\n",
      "-39.0 [11.89055496 -0.73161217]\n"
     ]
    }
   ],
   "source": [
    "a0 = 0\n",
    "a = np.random.rand(df.shape[1]-1)  # third col is target\n",
    "\n",
    "# predict; technically, we're only interested of the sign here.\n",
    "def pred(x):\n",
    "    return a0 + np.dot(a, x)\n",
    "\n",
    "\n",
    "# compute the loss for a list of samples\n",
    "def loss(xs, ys):\n",
    "    l = 0\n",
    "    for x, y in zip(xs, ys):\n",
    "        p = pred(x)\n",
    "\n",
    "        # misclassified?\n",
    "        if y * p < 0:\n",
    "            l -= (y * p)\n",
    "    return l\n",
    "\n",
    "\n",
    "rate = 1.0\n",
    "iters = 1000\n",
    "for it in range(0, 1000):\n",
    "    # take a random sample\n",
    "    i = np.random.choice(range(len(Xtr)))\n",
    "    x = Xtr[i]\n",
    "    y = Ytr[i]\n",
    "    \n",
    "    # predict\n",
    "    yhat = pred(x)\n",
    "    # print(x, y, yhat)\n",
    "\n",
    "    if y * yhat < 0:\n",
    "        a0 = a0 + rate * y    # easy: all scalars.\n",
    "        a = a + rate * y * x  # numpy ftw! element-wise ops\n",
    "        # print(a0, a)\n",
    "\n",
    "    # print training and test loss\n",
    "    if it % 100 == 0:\n",
    "        print(it, loss(Xtr, Ytr), loss(Xte, Yte))\n",
    "\n",
    "# all done\n",
    "print(a0, a)"
   ]
  },
  {
   "cell_type": "code",
   "execution_count": null,
   "metadata": {},
   "outputs": [],
   "source": []
  }
 ],
 "metadata": {
  "kernelspec": {
   "display_name": "Python 3",
   "language": "python",
   "name": "python3"
  },
  "language_info": {
   "codemirror_mode": {
    "name": "ipython",
    "version": 3
   },
   "file_extension": ".py",
   "mimetype": "text/x-python",
   "name": "python",
   "nbconvert_exporter": "python",
   "pygments_lexer": "ipython3",
   "version": "3.7.5"
  }
 },
 "nbformat": 4,
 "nbformat_minor": 4
}
