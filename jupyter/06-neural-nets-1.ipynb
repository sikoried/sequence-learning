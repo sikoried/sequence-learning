{
 "cells": [
  {
   "cell_type": "code",
   "execution_count": null,
   "metadata": {},
   "outputs": [],
   "source": [
    "import pandas as pd\n",
    "import matplotlib.pyplot as plt\n",
    "import numpy as np\n",
    "\n",
    "from zipfile import ZipFile\n",
    "\n",
    "# read in admission dataset as panda dataframe; use ex1, ex2 and y as column names\n",
    "with ZipFile('data/admission.zip') as zf:\n",
    "    df = pd.read_csv(???)\n",
    "\n",
    "# print min, max and scatter plot\n",
    "???"
   ]
  },
  {
   "cell_type": "code",
   "execution_count": null,
   "metadata": {},
   "outputs": [],
   "source": [
    "# partition the data: randomly select 10% for test\n",
    "\n",
    "Xtr = ???\n",
    "Ytr = ???\n",
    "\n",
    "Xte = ???\n",
    "Yte = ???"
   ]
  },
  {
   "cell_type": "code",
   "execution_count": null,
   "metadata": {},
   "outputs": [],
   "source": [
    "# implement Rosenblatt's perceptron using its iterative update algorithm\n",
    "\n",
    "# initial values\n",
    "a0 = ???\n",
    "a = ???\n",
    "\n",
    "# predict; technically, we're only interested of the sign here.\n",
    "def pred(x):\n",
    "    pass\n",
    "\n",
    "\n",
    "# compute the loss for a list of samples and ground truth targets\n",
    "def loss(xs, ys):\n",
    "    pass\n",
    "\n",
    "\n",
    "# iterate over random choices; predict current class, update parameters as necessary\n",
    "\n",
    "# print final parameters\n",
    "print(a0, a)"
   ]
  }
 ],
 "metadata": {
  "kernelspec": {
   "display_name": "Python 3",
   "language": "python",
   "name": "python3"
  },
  "language_info": {
   "codemirror_mode": {
    "name": "ipython",
    "version": 3
   },
   "file_extension": ".py",
   "mimetype": "text/x-python",
   "name": "python",
   "nbconvert_exporter": "python",
   "pygments_lexer": "ipython3",
   "version": "3.7.5"
  }
 },
 "nbformat": 4,
 "nbformat_minor": 4
}
